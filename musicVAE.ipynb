{
 "cells": [
  {
   "cell_type": "code",
   "source": [
    "!sudo apt install -y fluidsynth"
   ],
   "metadata": {
    "colab": {
     "base_uri": "https://localhost:8080/"
    },
    "id": "87LxSK3u5C3t",
    "executionInfo": {
     "status": "ok",
     "timestamp": 1656127834077,
     "user_tz": -540,
     "elapsed": 24331,
     "user": {
      "displayName": "전혜주",
      "userId": "02066136679047757628"
     }
    },
    "outputId": "4971673e-bd4e-4e71-ede4-22bf77d9a14e",
    "pycharm": {
     "name": "#%%\n",
     "is_executing": true
    }
   },
   "id": "87LxSK3u5C3t",
   "execution_count": null,
   "outputs": []
  },
  {
   "cell_type": "code",
   "source": [
    "!pip install sparse\n",
    "!pip install librosa\n",
    "!pip install mir_eval\n",
    "!pip install pretty_midi\n",
    "!pip install --upgrade pyfluidsynth"
   ],
   "metadata": {
    "colab": {
     "base_uri": "https://localhost:8080/"
    },
    "id": "lpy97KQ45OAc",
    "executionInfo": {
     "status": "ok",
     "timestamp": 1656127851524,
     "user_tz": -540,
     "elapsed": 17451,
     "user": {
      "displayName": "전혜주",
      "userId": "02066136679047757628"
     }
    },
    "outputId": "213710c6-3c53-4995-c7d1-60f4c3ab324b",
    "pycharm": {
     "name": "#%%\n",
     "is_executing": true
    }
   },
   "id": "lpy97KQ45OAc",
   "execution_count": null,
   "outputs": []
  },
  {
   "cell_type": "code",
   "source": [
    "from google.colab import drive\n",
    "drive.mount('/content/drive')"
   ],
   "metadata": {
    "colab": {
     "base_uri": "https://localhost:8080/"
    },
    "id": "u3_syhN75dwv",
    "executionInfo": {
     "status": "ok",
     "timestamp": 1656127872069,
     "user_tz": -540,
     "elapsed": 20571,
     "user": {
      "displayName": "전혜주",
      "userId": "02066136679047757628"
     }
    },
    "outputId": "02cfb8fe-4c03-4a56-a8a0-afc830af15fb",
    "pycharm": {
     "name": "#%%\n",
     "is_executing": true
    }
   },
   "id": "u3_syhN75dwv",
   "execution_count": null,
   "outputs": []
  },
  {
   "cell_type": "code",
   "source": [
    "cd /content/drive/MyDrive/musicvae/musicVAE"
   ],
   "metadata": {
    "colab": {
     "base_uri": "https://localhost:8080/"
    },
    "id": "PRjmoziu5eKE",
    "executionInfo": {
     "status": "ok",
     "timestamp": 1656127872070,
     "user_tz": -540,
     "elapsed": 12,
     "user": {
      "displayName": "전혜주",
      "userId": "02066136679047757628"
     }
    },
    "outputId": "f757d12b-a755-41b8-b7b3-816ac15de3a5",
    "pycharm": {
     "name": "#%%\n",
     "is_executing": true
    }
   },
   "id": "PRjmoziu5eKE",
   "execution_count": null,
   "outputs": []
  },
  {
   "cell_type": "code",
   "execution_count": 5,
   "id": "30405dd7",
   "metadata": {
    "pycharm": {
     "name": "#%%\n"
    },
    "id": "30405dd7",
    "executionInfo": {
     "status": "ok",
     "timestamp": 1656127881192,
     "user_tz": -540,
     "elapsed": 9129,
     "user": {
      "displayName": "전혜주",
      "userId": "02066136679047757628"
     }
    }
   },
   "outputs": [],
   "source": [
    "import os\n",
    "os.environ['CUDA_VISIBLE_DEVICES'] = '0'\n",
    "\n",
    "import json\n",
    "import pickle\n",
    "import sparse\n",
    "import random\n",
    "import librosa\n",
    "import mir_eval\n",
    "import fluidsynth\n",
    "import pretty_midi\n",
    "import numpy as np\n",
    "from time import time\n",
    "\n",
    "import IPython.display\n",
    "import matplotlib.pyplot as plt\n",
    "\n",
    "import torch\n",
    "import torch.optim as optim\n",
    "import torch.nn.functional as F\n",
    "\n",
    "from torch import nn\n",
    "from torch.utils.data import Dataset, DataLoader\n",
    "from torch.utils.data.sampler import RandomSampler\n",
    "from torch.utils.data.distributed import DistributedSampler\n",
    "\n",
    "from preprocess.preprocess_utils import *\n",
    "from training.train_utils import *\n",
    "from training.train import *\n",
    "from training.test import *\n",
    "from modeling.model import *\n",
    "\n",
    "%load_ext autoreload\n",
    "%autoreload 2"
   ]
  },
  {
   "cell_type": "markdown",
   "id": "cc39fbd5",
   "metadata": {
    "id": "cc39fbd5",
    "pycharm": {
     "name": "#%% md\n"
    }
   },
   "source": [
    "# Prepare Data"
   ]
  },
  {
   "cell_type": "code",
   "execution_count": 6,
   "id": "445c407c",
   "metadata": {
    "pycharm": {
     "name": "#%%\n"
    },
    "id": "445c407c",
    "executionInfo": {
     "status": "ok",
     "timestamp": 1656127881193,
     "user_tz": -540,
     "elapsed": 4,
     "user": {
      "displayName": "전혜주",
      "userId": "02066136679047757628"
     }
    }
   },
   "outputs": [],
   "source": [
    "use_cuda = torch.cuda.is_available()\n",
    "device = torch.device('cuda' if use_cuda else 'cpu')"
   ]
  },
  {
   "cell_type": "code",
   "execution_count": null,
   "id": "5950f77d",
   "metadata": {
    "colab": {
     "base_uri": "https://localhost:8080/"
    },
    "id": "5950f77d",
    "executionInfo": {
     "status": "ok",
     "timestamp": 1656127882394,
     "user_tz": -540,
     "elapsed": 1204,
     "user": {
      "displayName": "전혜주",
      "userId": "02066136679047757628"
     }
    },
    "outputId": "eb997bc0-7fda-408d-bf19-a539e387e6c5",
    "pycharm": {
     "name": "#%%\n",
     "is_executing": true
    }
   },
   "outputs": [],
   "source": [
    "path = '/content/drive/MyDrive/musicvae/processed-data.pkl'\n",
    "with open(path, 'rb') as f:\n",
    "    data = pickle.load(f)\n",
    "\n",
    "print('The number of data : %d' % len(data))"
   ]
  },
  {
   "cell_type": "code",
   "execution_count": null,
   "id": "520a9be7",
   "metadata": {
    "colab": {
     "base_uri": "https://localhost:8080/",
     "height": 74
    },
    "id": "520a9be7",
    "executionInfo": {
     "status": "ok",
     "timestamp": 1656127882395,
     "user_tz": -540,
     "elapsed": 24,
     "user": {
      "displayName": "전혜주",
      "userId": "02066136679047757628"
     }
    },
    "outputId": "0a2414fe-7cc0-42a4-d2c0-a6e700e91893",
    "pycharm": {
     "name": "#%%\n",
     "is_executing": true
    }
   },
   "outputs": [],
   "source": [
    "fs = 8\n",
    "pm = drum_play(data[0].todense(), fs)\n",
    "IPython.display.Audio(pm.fluidsynth(fs=16000), rate=16000)"
   ]
  },
  {
   "cell_type": "code",
   "execution_count": null,
   "id": "f32f8c58",
   "metadata": {
    "colab": {
     "base_uri": "https://localhost:8080/"
    },
    "id": "f32f8c58",
    "executionInfo": {
     "status": "ok",
     "timestamp": 1656127882396,
     "user_tz": -540,
     "elapsed": 20,
     "user": {
      "displayName": "전혜주",
      "userId": "02066136679047757628"
     }
    },
    "outputId": "7c579321-a824-40d4-a732-77fa6086bba8",
    "pycharm": {
     "name": "#%%\n",
     "is_executing": true
    }
   },
   "outputs": [],
   "source": [
    "num_data = len(data)\n",
    "random.shuffle(data)\n",
    "\n",
    "num_train = int(num_data * 0.7)\n",
    "num_val = int(num_data * 0.1)\n",
    "\n",
    "train_data = data[:num_train]\n",
    "val_data = data[num_train:num_train+num_val]\n",
    "test_data = data[num_train+num_val:]\n",
    "\n",
    "print('The number of train: %d' % len(train_data))\n",
    "print('The number of validation: %d' % len(val_data))\n",
    "print('The number of test: %d' % len(test_data))"
   ]
  },
  {
   "cell_type": "code",
   "execution_count": 10,
   "id": "2e60840e",
   "metadata": {
    "id": "2e60840e",
    "executionInfo": {
     "status": "ok",
     "timestamp": 1656127882397,
     "user_tz": -540,
     "elapsed": 19,
     "user": {
      "displayName": "전혜주",
      "userId": "02066136679047757628"
     }
    },
    "pycharm": {
     "name": "#%%\n"
    }
   },
   "outputs": [],
   "source": [
    "class DatasetSampler(Dataset):\n",
    "    def __init__(self, x):\n",
    "        self.x = x\n",
    "\n",
    "    def __len__(self):\n",
    "        return len(self.x)\n",
    "\n",
    "    def __getitem__(self, idx):\n",
    "        return self.x[idx].todense().astype('float32')"
   ]
  },
  {
   "cell_type": "code",
   "execution_count": 11,
   "id": "c4bf2956",
   "metadata": {
    "id": "c4bf2956",
    "executionInfo": {
     "status": "ok",
     "timestamp": 1656127882398,
     "user_tz": -540,
     "elapsed": 19,
     "user": {
      "displayName": "전혜주",
      "userId": "02066136679047757628"
     }
    },
    "pycharm": {
     "name": "#%%\n"
    }
   },
   "outputs": [],
   "source": [
    "params = {'batch_size': 512, \n",
    "          'shuffle': True,\n",
    "          'pin_memory': True,\n",
    "          'num_workers': 1}\n",
    "\n",
    "train_set = DataLoader(DatasetSampler(train_data), **params)\n",
    "val_set = DataLoader(DatasetSampler(val_data), **params)\n",
    "test_set = DataLoader(DatasetSampler(test_data), **params)"
   ]
  },
  {
   "cell_type": "code",
   "execution_count": 12,
   "id": "21451369",
   "metadata": {
    "id": "21451369",
    "executionInfo": {
     "status": "ok",
     "timestamp": 1656127892127,
     "user_tz": -540,
     "elapsed": 9747,
     "user": {
      "displayName": "전혜주",
      "userId": "02066136679047757628"
     }
    },
    "pycharm": {
     "name": "#%%\n"
    }
   },
   "outputs": [],
   "source": [
    "enc_input_size = 512\n",
    "enc_latent_dim = 512\n",
    "enc_hidden_size = 1024\n",
    "\n",
    "encoder = Encoder(enc_input_size, enc_hidden_size, enc_latent_dim)\n",
    "encoder = encoder.to(device)\n",
    "\n",
    "con_input_size = enc_latent_dim\n",
    "con_hidden_size = 512\n",
    "\n",
    "conductor = Conductor(con_input_size, con_hidden_size, device)\n",
    "conductor = conductor.to(device)\n",
    "\n",
    "dec_input_size = con_hidden_size\n",
    "dec_hidden_size = 1024\n",
    "dec_output_size = 512\n",
    "\n",
    "decoder = Decoder(dec_input_size, dec_hidden_size, dec_output_size)\n",
    "decoder = decoder.to(device)\n",
    "\n",
    "model = [encoder, conductor, decoder]"
   ]
  },
  {
   "cell_type": "code",
   "execution_count": 13,
   "id": "1690841d",
   "metadata": {
    "id": "1690841d",
    "executionInfo": {
     "status": "ok",
     "timestamp": 1656127892128,
     "user_tz": -540,
     "elapsed": 38,
     "user": {
      "displayName": "전혜주",
      "userId": "02066136679047757628"
     }
    },
    "pycharm": {
     "name": "#%%\n"
    }
   },
   "outputs": [],
   "source": [
    "enc_optimizer = optim.Adam(encoder.parameters(), lr=1e-3)\n",
    "con_optimizer = optim.Adam(conductor.parameters(), lr=1e-3)\n",
    "dec_optimizer = optim.Adam(decoder.parameters(), lr=1e-3)\n",
    "\n",
    "optimizer = [enc_optimizer, con_optimizer, dec_optimizer]"
   ]
  },
  {
   "cell_type": "markdown",
   "id": "60b4960f",
   "metadata": {
    "id": "60b4960f",
    "pycharm": {
     "name": "#%% md\n"
    }
   },
   "source": [
    "# Train"
   ]
  },
  {
   "cell_type": "code",
   "execution_count": null,
   "id": "b5517240",
   "metadata": {
    "colab": {
     "base_uri": "https://localhost:8080/"
    },
    "id": "b5517240",
    "executionInfo": {
     "status": "ok",
     "timestamp": 1656127903859,
     "user_tz": -540,
     "elapsed": 11767,
     "user": {
      "displayName": "전혜주",
      "userId": "02066136679047757628"
     }
    },
    "outputId": "38df7990-79ea-40f1-890d-6a2513c594e2",
    "pycharm": {
     "name": "#%%\n",
     "is_executing": true
    }
   },
   "outputs": [],
   "source": [
    "history = train(device, vae_loss, train_set, val_set, model, optimizer, bar_units=16, epochs=100)"
   ]
  },
  {
   "cell_type": "markdown",
   "id": "313ab792",
   "metadata": {
    "id": "313ab792",
    "pycharm": {
     "name": "#%% md\n"
    }
   },
   "source": [
    "# Test"
   ]
  },
  {
   "cell_type": "code",
   "execution_count": null,
   "id": "d5db62ef",
   "metadata": {
    "colab": {
     "base_uri": "https://localhost:8080/"
    },
    "id": "d5db62ef",
    "executionInfo": {
     "status": "ok",
     "timestamp": 1656127916077,
     "user_tz": -540,
     "elapsed": 1792,
     "user": {
      "displayName": "전혜주",
      "userId": "02066136679047757628"
     }
    },
    "outputId": "0f183a5a-9bbf-4062-9603-a517bf36dfb5",
    "pycharm": {
     "name": "#%%\n",
     "is_executing": true
    }
   },
   "outputs": [],
   "source": [
    "history, y_true, y_pred = test(device, vae_loss, test_set, model, bar_units=16)"
   ]
  },
  {
   "cell_type": "code",
   "execution_count": null,
   "id": "da3c48d2",
   "metadata": {
    "colab": {
     "base_uri": "https://localhost:8080/",
     "height": 74
    },
    "id": "da3c48d2",
    "executionInfo": {
     "status": "ok",
     "timestamp": 1656127918076,
     "user_tz": -540,
     "elapsed": 6,
     "user": {
      "displayName": "전혜주",
      "userId": "02066136679047757628"
     }
    },
    "outputId": "22826ac6-5062-447c-e6de-7c502df57d72",
    "pycharm": {
     "name": "#%%\n",
     "is_executing": true
    }
   },
   "outputs": [],
   "source": [
    "fs = 8; idx = 255\n",
    "pm = drum_play(y_true[idx], fs)\n",
    "IPython.display.Audio(pm.fluidsynth(fs=16000), rate=16000)"
   ]
  },
  {
   "cell_type": "markdown",
   "id": "75373ea8",
   "metadata": {
    "id": "75373ea8",
    "pycharm": {
     "name": "#%% md\n"
    }
   },
   "source": [
    "# Generate custom inputs and predict"
   ]
  },
  {
   "cell_type": "code",
   "execution_count": 17,
   "id": "89b7a9f1",
   "metadata": {
    "id": "89b7a9f1",
    "executionInfo": {
     "status": "ok",
     "timestamp": 1656127921847,
     "user_tz": -540,
     "elapsed": 2,
     "user": {
      "displayName": "전혜주",
      "userId": "02066136679047757628"
     }
    },
    "pycharm": {
     "name": "#%%\n"
    }
   },
   "outputs": [],
   "source": [
    "def predict(feat, decoder, bar_units=16, seq_len=64):\n",
    "    batch_size = feat.shape[0]\n",
    "    \n",
    "    hidden_size = decoder.hidden_size\n",
    "    output_size = decoder.output_size\n",
    "    num_hidden = decoder.num_hidden\n",
    "    \n",
    "    inputs = torch.zeros((batch_size, 1, output_size), device=device)\n",
    "    outputs = torch.zeros((batch_size, seq_len, output_size), device=device) # argmax\n",
    "    \n",
    "    for j in range(seq_len):\n",
    "        bar_idx = j // bar_units\n",
    "        bar_change_idx = j % bar_units\n",
    "        \n",
    "        z = feat[:, bar_idx, :]\n",
    "        \n",
    "        if bar_change_idx == 0:\n",
    "            h = z.repeat(num_hidden, 1, int(hidden_size/z.shape[1]))\n",
    "            c = z.repeat(num_hidden, 1, int(hidden_size/z.shape[1]))\n",
    "            \n",
    "        label, prob, h, c = decoder(inputs, h, c, z)\n",
    "        outputs[:, j, :] = prob.squeeze()\n",
    "\n",
    "        inputs = F.one_hot(label, num_classes=output_size)\n",
    "        \n",
    "    return outputs"
   ]
  },
  {
   "cell_type": "code",
   "execution_count": 18,
   "id": "9fe96242",
   "metadata": {
    "id": "9fe96242",
    "executionInfo": {
     "status": "ok",
     "timestamp": 1656127924637,
     "user_tz": -540,
     "elapsed": 3,
     "user": {
      "displayName": "전혜주",
      "userId": "02066136679047757628"
     }
    },
    "pycharm": {
     "name": "#%%\n"
    }
   },
   "outputs": [],
   "source": [
    "sequence = [[0, 3], [3], [3], [0, 3], [3], [3], [1, 3], [3]]"
   ]
  },
  {
   "cell_type": "code",
   "execution_count": null,
   "id": "9220a238",
   "metadata": {
    "colab": {
     "base_uri": "https://localhost:8080/"
    },
    "id": "9220a238",
    "executionInfo": {
     "status": "ok",
     "timestamp": 1656127925854,
     "user_tz": -540,
     "elapsed": 3,
     "user": {
      "displayName": "전혜주",
      "userId": "02066136679047757628"
     }
    },
    "outputId": "68afc47b-cd23-4d3c-e6f9-209c40894f78",
    "pycharm": {
     "name": "#%%\n",
     "is_executing": true
    }
   },
   "outputs": [],
   "source": [
    "dim = 512\n",
    "hot_encoding = np.eye(dim)\n",
    "hot_encoded = np.zeros((2*len(sequence), dim), dtype='float32')\n",
    "\n",
    "for i in range(0, 2*len(sequence), 2):\n",
    "    hit_idx = int(i/2)\n",
    "    if sequence[hit_idx][0] == -1:\n",
    "        hot_encoded[i, 0] = 1\n",
    "        continue\n",
    "        \n",
    "    temp = np.zeros(9)\n",
    "    temp[sequence[hit_idx]] = 1\n",
    "    decimal = bin_to_dec(temp)\n",
    "    \n",
    "    hot_encoded[i, :] = hot_encoding[decimal]\n",
    "    hot_encoded[i+1, 0] = 1 # rest\n",
    "    \n",
    "hot_encoded = np.tile(hot_encoded, (4, 1))\n",
    "print('input shape :', hot_encoded.shape)"
   ]
  },
  {
   "cell_type": "code",
   "execution_count": null,
   "id": "9505172b",
   "metadata": {
    "colab": {
     "base_uri": "https://localhost:8080/",
     "height": 74
    },
    "id": "9505172b",
    "executionInfo": {
     "status": "ok",
     "timestamp": 1656127927995,
     "user_tz": -540,
     "elapsed": 870,
     "user": {
      "displayName": "전혜주",
      "userId": "02066136679047757628"
     }
    },
    "outputId": "461509a8-e704-40f0-b9ff-78c36819c795",
    "pycharm": {
     "name": "#%%\n",
     "is_executing": true
    }
   },
   "outputs": [],
   "source": [
    "fs = 8\n",
    "pm = drum_play(hot_encoded, fs)\n",
    "IPython.display.Audio(pm.fluidsynth(fs=16000), rate=16000)"
   ]
  },
  {
   "cell_type": "code",
   "execution_count": null,
   "id": "0d0f242e",
   "metadata": {
    "colab": {
     "base_uri": "https://localhost:8080/",
     "height": 74
    },
    "id": "0d0f242e",
    "executionInfo": {
     "status": "ok",
     "timestamp": 1656127929796,
     "user_tz": -540,
     "elapsed": 822,
     "user": {
      "displayName": "전혜주",
      "userId": "02066136679047757628"
     }
    },
    "outputId": "4f495191-afd4-42a3-c0bf-dfe3102e4110",
    "pycharm": {
     "name": "#%%\n",
     "is_executing": true
    }
   },
   "outputs": [],
   "source": [
    "fs = 8\n",
    "temp = 3\n",
    "\n",
    "test = torch.from_numpy(hot_encoded).to(device).unsqueeze(0)\n",
    "\n",
    "z, mu, std = encoder(test)\n",
    "feat = conductor(z)\n",
    "pred = np.squeeze(predict(feat, decoder).data.cpu().numpy())\n",
    "\n",
    "pm = drum_play(prob_label(pred), fs=fs)\n",
    "IPython.display.Audio(pm.fluidsynth(fs=16000), rate=16000)"
   ]
  },
  {
   "cell_type": "code",
   "execution_count": 22,
   "id": "ffe2ccc6",
   "metadata": {
    "id": "ffe2ccc6",
    "executionInfo": {
     "status": "ok",
     "timestamp": 1656127931963,
     "user_tz": -540,
     "elapsed": 752,
     "user": {
      "displayName": "전혜주",
      "userId": "02066136679047757628"
     }
    },
    "pycharm": {
     "name": "#%%\n"
    }
   },
   "outputs": [],
   "source": [
    "pm.write('out.mid')"
   ]
  },
  {
   "cell_type": "code",
   "execution_count": null,
   "id": "95559bfe",
   "metadata": {
    "id": "95559bfe",
    "pycharm": {
     "name": "#%%\n"
    }
   },
   "outputs": [],
   "source": []
  }
 ],
 "metadata": {
  "kernelspec": {
   "display_name": "musicvae",
   "language": "python",
   "name": "musicvae"
  },
  "language_info": {
   "codemirror_mode": {
    "name": "ipython",
    "version": 3
   },
   "file_extension": ".py",
   "mimetype": "text/x-python",
   "name": "python",
   "nbconvert_exporter": "python",
   "pygments_lexer": "ipython3",
   "version": "3.7.13"
  },
  "colab": {
   "name": "musicVAE.ipynb",
   "provenance": []
  },
  "accelerator": "GPU",
  "gpuClass": "standard"
 },
 "nbformat": 4,
 "nbformat_minor": 5
}